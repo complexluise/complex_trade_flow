{
 "cells": [
  {
   "cell_type": "markdown",
   "source": [
    "# Ejemplo de uso de la Libreria"
   ],
   "metadata": {
    "collapsed": false
   },
   "id": "dc4ea48e3328d647"
  },
  {
   "cell_type": "markdown",
   "source": [
    "# Limpia los datos"
   ],
   "metadata": {
    "collapsed": false
   },
   "id": "89414fe483405180"
  },
  {
   "cell_type": "markdown",
   "source": [
    "## Consideraciones antes de usar el código\n",
    "Para limpiar los datos, primero asegúrate de tener los siguientes archivos descargados:\n",
    "\n",
    "1. BACI CEPII: Datos de comercio internacional\n",
    "   - Ubicación: `data/raw_data/BACI_HS92_V202401b/`\n",
    "   - Archivos: `BACI_HS92_Y{year}_V202401b.csv` para cada año\n",
    "   - Archivo de códigos de país: `country_codes_V202401b.csv`\n",
    "\n",
    "2. World Bank Data:\n",
    "   - Ubicación: `data/raw_data/world_bank_data/`\n",
    "   - Archivo de países: `countries.csv`\n",
    "   - Archivo de deflactor del PIB: `NY.GDP.DEFL.ZS.AD_1995-2023.csv`\n",
    "\n",
    "Asegúrate de que estos archivos estén en las ubicaciones correctas antes de ejecutar el código de limpieza."
   ],
   "metadata": {
    "collapsed": false
   },
   "id": "bb4f795ddf58b7aa"
  },
  {
   "cell_type": "markdown",
   "source": [
    "## Cómo se limpian los datos\n",
    "El proceso de limpieza de datos realiza las siguientes operaciones:\n",
    "\n",
    "1. Carga los datos brutos de comercio, códigos de país, datos de región y deflactor del PIB.\n",
    "2. Enriquece los datos de país con información de región.\n",
    "3. Limpia y transforma los datos de transacciones comerciales:\n",
    "   - Reemplaza valores faltantes en la columna de cantidad.\n",
    "   - Mapea los códigos de país a códigos ISO de 3 letras.\n",
    "   - Renombra las columnas para mayor claridad.\n",
    "4. Convierte los valores monetarios a dólares constantes utilizando el deflactor del PIB.\n",
    "5. Guarda los datos limpios en archivos CSV separados por año."
   ],
   "metadata": {
    "collapsed": false
   },
   "id": "e99a851240b0bfd6"
  },
  {
   "cell_type": "raw",
   "source": [
    "from trade_network.clean_trade_data import DataCleaner\n",
    "DataCleaner.clean_trade_data()"
   ],
   "metadata": {
    "collapsed": false
   },
   "id": "4324d7d96a251ef4"
  },
  {
   "cell_type": "markdown",
   "source": [
    "# Ejemplo Calcula la diversidad de alguna región\n"
   ],
   "metadata": {
    "collapsed": false
   },
   "id": "3036b176c551dbd5"
  },
  {
   "cell_type": "markdown",
   "source": [
    "## Cálculo de la diversidad\n",
    "\n",
    "El cálculo de la diversidad en el comercio internacional nos permite entender qué tan variada es la canasta de productos que exporta o importa una región o país. Utilizamos el índice de diversidad basado en la entropía de Shannon, que se calcula de la siguiente manera:\n",
    "\n",
    "1. Calculamos las probabilidades marginales para cada producto:\n",
    "   $P(i) =$ (Valor exportado del producto i) / (Valor total de exportaciones)\n",
    "\n",
    "2. Calculamos la entropía de Shannon:\n",
    "   $H = -∑(P(i) * log2(P(i)))$\n",
    "\n",
    "3. Convertimos la entropía a un índice de diversidad:\n",
    "   $Diversidad = 2^H$\n",
    "\n",
    "Este índice nos da una medida de la diversidad efectiva de productos. Un valor más alto indica una mayor diversidad en la canasta de productos comerciados.\n"
   ],
   "metadata": {
    "collapsed": false
   },
   "id": "e8dde84d41b22a8e"
  },
  {
   "cell_type": "markdown",
   "source": [
    "## Clasifica a los paises de acuerdo a un esquema\n",
    "\n",
    "El esquema de clasificación nos permite agrupar países según diferentes criterios, como región geográfica, nivel de ingresos, etc. Esto facilita el análisis de patrones comerciales a nivel de grupos de países.\n",
    "\n",
    "Para crear un esquema sin clasificación (es decir, donde cada país se clasifica como sí mismo), puedes usar el siguiente código:\n",
    "\n",
    "```python\n",
    "no_classification = ClassificationScheme(\n",
    "    name=\"by_country\"\n",
    ")\n",
    "```\n",
    "Este esquema simplemente mapeará cada país a sí mismo, lo que es útil cuando quieres analizar países individualmente.\n",
    "\n",
    "\n",
    "Para clasificaciones con el archivo csv, la clase se inicializa con un nombre y la ruta al archivo que contiene la información de clasificación. Se deben r como __key_column__ aquella donde esté el código iso de 3 dígitos y de __value_column__ aquella donde esté la clasificación."
   ],
   "metadata": {
    "collapsed": false
   },
   "id": "9acbe322f4d25f7b"
  },
  {
   "cell_type": "code",
   "source": [
    "from complex_trade_flow import ClassificationScheme\n",
    "\n",
    "\n",
    "region_scheme = ClassificationScheme(\n",
    "    name=\"by_region\",\n",
    "    file_path=\"data/raw_data/world_bank_data/countries.csv\",\n",
    "    key_column=\"id\",\n",
    "    value_column=\"region.value\"\n",
    ")    "
   ],
   "metadata": {
    "collapsed": false,
    "ExecuteTime": {
     "end_time": "2025-06-16T04:00:02.738707Z",
     "start_time": "2025-06-16T04:00:02.104771Z"
    }
   },
   "id": "1470b305af0fbcc6",
   "outputs": [
    {
     "ename": "ModuleNotFoundError",
     "evalue": "No module named 'trade_network'",
     "output_type": "error",
     "traceback": [
      "\u001B[31m---------------------------------------------------------------------------\u001B[39m",
      "\u001B[31mModuleNotFoundError\u001B[39m                       Traceback (most recent call last)",
      "\u001B[36mCell\u001B[39m\u001B[36m \u001B[39m\u001B[32mIn[1]\u001B[39m\u001B[32m, line 1\u001B[39m\n\u001B[32m----> \u001B[39m\u001B[32m1\u001B[39m \u001B[38;5;28;01mfrom\u001B[39;00m\u001B[38;5;250m \u001B[39m\u001B[34;01mtrade_network\u001B[39;00m\u001B[34;01m.\u001B[39;00m\u001B[34;01mutils\u001B[39;00m\u001B[38;5;250m \u001B[39m\u001B[38;5;28;01mimport\u001B[39;00m ClassificationScheme\n\u001B[32m      4\u001B[39m region_scheme = ClassificationScheme(\n\u001B[32m      5\u001B[39m     name=\u001B[33m\"\u001B[39m\u001B[33mby_region\u001B[39m\u001B[33m\"\u001B[39m,\n\u001B[32m      6\u001B[39m     file_path=\u001B[33m\"\u001B[39m\u001B[33mdata/raw_data/world_bank_data/countries.csv\u001B[39m\u001B[33m\"\u001B[39m,\n\u001B[32m      7\u001B[39m     key_column=\u001B[33m\"\u001B[39m\u001B[33mid\u001B[39m\u001B[33m\"\u001B[39m,\n\u001B[32m      8\u001B[39m     value_column=\u001B[33m\"\u001B[39m\u001B[33mregion.value\u001B[39m\u001B[33m\"\u001B[39m\n\u001B[32m      9\u001B[39m )    \n",
      "\u001B[31mModuleNotFoundError\u001B[39m: No module named 'trade_network'"
     ]
    }
   ],
   "execution_count": 1
  },
  {
   "cell_type": "markdown",
   "source": [
    "## Crear la red de comercio para un año específico\n",
    "Nota: Para hacer uso de TradeNetwork, asegúrate de que los archivos de datos limpios estén en la ruta correcta (generalmente en 'data/processed_data/BACI_HS92_V202401b/cleaned_trade_data/')\n",
    "y que el archivo de configuración 'data_paths.json' esté correctamente configurado con las rutas correspondientes y datos."
   ],
   "metadata": {
    "collapsed": false
   },
   "id": "eafe86b7a8af03fe"
  },
  {
   "cell_type": "code",
   "execution_count": 2,
   "outputs": [],
   "source": [
    "from complex_trade_flow import TradeNetwork\n",
    "\n",
    "trade_network = TradeNetwork.from_year(\n",
    "    year=2020,\n",
    "    classification_schemes=[region_scheme]\n",
    ")\n"
   ],
   "metadata": {
    "collapsed": false,
    "ExecuteTime": {
     "end_time": "2024-08-21T06:44:48.187627600Z",
     "start_time": "2024-08-21T06:44:33.394949700Z"
    }
   },
   "id": "a2deb24a9907b84a"
  },
  {
   "cell_type": "markdown",
   "source": [
    "Veamos qué regiones están disponibles en nuestro esquema de clasificación:"
   ],
   "metadata": {
    "collapsed": false
   },
   "id": "a6c0bb0abd783b19"
  },
  {
   "cell_type": "code",
   "execution_count": 3,
   "outputs": [
    {
     "data": {
      "text/plain": "{'East Asia & Pacific',\n 'Europe & Central Asia',\n 'Latin America & Caribbean ',\n 'Middle East & North Africa',\n 'North America',\n 'South Asia',\n 'Sub-Saharan Africa ',\n 'Unknown'}"
     },
     "execution_count": 3,
     "metadata": {},
     "output_type": "execute_result"
    }
   ],
   "source": [
    "trade_network.entities[str(region_scheme)]"
   ],
   "metadata": {
    "collapsed": false,
    "ExecuteTime": {
     "end_time": "2024-08-21T06:44:48.200367900Z",
     "start_time": "2024-08-21T06:44:48.187627600Z"
    }
   },
   "id": "a3caa873de8b2d25"
  },
  {
   "cell_type": "markdown",
   "source": [
    "## Cálculo de la diversidad de exportación para una región\n",
    "Ahora, calculemos la diversidad de exportación para la región 'South Asia':"
   ],
   "metadata": {
    "collapsed": false
   },
   "id": "3ab018c96a9f0058"
  },
  {
   "cell_type": "code",
   "execution_count": 4,
   "outputs": [
    {
     "name": "stdout",
     "output_type": "stream",
     "text": [
      "Export product diversity for South Asia: 458.12\n"
     ]
    }
   ],
   "source": [
    "from complex_trade_flow import DiversityCalculator\n",
    "\n",
    "data = trade_network.filter_data_by_entities(\n",
    "            scheme_name=str(region_scheme),\n",
    "            exporters=['South Asia']\n",
    "        )\n",
    "\n",
    "export_diversity = DiversityCalculator.calculate_diversity_index(\n",
    "                data=data\n",
    "            )\n",
    "print(f\"Export product diversity for {'South Asia'}: {export_diversity:.2f}\")"
   ],
   "metadata": {
    "collapsed": false,
    "ExecuteTime": {
     "end_time": "2024-08-21T06:44:48.672160700Z",
     "start_time": "2024-08-21T06:44:48.200367900Z"
    }
   },
   "id": "8a29ba311d46b95e"
  },
  {
   "cell_type": "markdown",
   "source": [
    "# Analisis de Flujos de diversidad\n",
    "\n",
    "Para facilitar el analisis de los datasets se cuentan con analisis ya programados, la función run_analysis coordina todo el proceso de análisis de diversidad. Para cada año y esquema de clasificación proporcionado, ejecuta un cálculo específico de diversificación económica mediante la función compute_entity_product_diversification, que mide cuán diversificados están los productos que un país exporta e importa. Esta última función filtra los datos comerciales por país y esquema, y calcula un índice de diversidad para las exportaciones e importaciones,"
   ],
   "metadata": {
    "collapsed": false
   },
   "id": "19b58dbd8e4bd5d3"
  },
  {
   "cell_type": "code",
   "execution_count": 5,
   "outputs": [
    {
     "name": "stdout",
     "output_type": "stream",
     "text": [
      "Analyzing by_region for 1995...\n"
     ]
    },
    {
     "name": "stderr",
     "output_type": "stream",
     "text": [
      "Analyzing year 1995: 100%|██████████| 8/8 [00:24<00:00,  3.04s/it]\n"
     ]
    },
    {
     "ename": "KeyboardInterrupt",
     "evalue": "",
     "output_type": "error",
     "traceback": [
      "\u001B[1;31m---------------------------------------------------------------------------\u001B[0m",
      "\u001B[1;31mKeyboardInterrupt\u001B[0m                         Traceback (most recent call last)",
      "Cell \u001B[1;32mIn[5], line 10\u001B[0m\n\u001B[0;32m      2\u001B[0m \u001B[38;5;28;01mfrom\u001B[39;00m \u001B[38;5;21;01mtrade_network\u001B[39;00m\u001B[38;5;21;01m.\u001B[39;00m\u001B[38;5;21;01mconstants\u001B[39;00m \u001B[38;5;28;01mimport\u001B[39;00m EconomicComplexity\n\u001B[0;32m      4\u001B[0m analyzer \u001B[38;5;241m=\u001B[39m EconomicComplexityAnalyzer(\n\u001B[0;32m      5\u001B[0m     start_year\u001B[38;5;241m=\u001B[39m\u001B[38;5;241m1995\u001B[39m,\n\u001B[0;32m      6\u001B[0m     end_year\u001B[38;5;241m=\u001B[39m\u001B[38;5;241m1996\u001B[39m,\n\u001B[0;32m      7\u001B[0m     classification_schemes\u001B[38;5;241m=\u001B[39m[region_scheme]\n\u001B[0;32m      8\u001B[0m )\n\u001B[1;32m---> 10\u001B[0m \u001B[43manalyzer\u001B[49m\u001B[38;5;241;43m.\u001B[39;49m\u001B[43mrun_analysis\u001B[49m\u001B[43m(\u001B[49m\n\u001B[0;32m     11\u001B[0m \u001B[43m    \u001B[49m\u001B[43mtype_analysis\u001B[49m\u001B[38;5;241;43m=\u001B[39;49m\u001B[43mEconomicComplexity\u001B[49m\u001B[38;5;241;43m.\u001B[39;49m\u001B[43mENTITY_PRODUCT_DIVERSIFICATION\u001B[49m\u001B[43m,\u001B[49m\n\u001B[0;32m     12\u001B[0m \u001B[43m    \u001B[49m\u001B[43moutput_directory\u001B[49m\u001B[38;5;241;43m=\u001B[39;49m\u001B[38;5;124;43mf\u001B[39;49m\u001B[38;5;124;43m\"\u001B[39;49m\u001B[38;5;124;43mdata/processed_data/BACI_HS92_V202401b/\u001B[39;49m\u001B[38;5;132;43;01m{\u001B[39;49;00m\u001B[38;5;28;43mstr\u001B[39;49m\u001B[43m(\u001B[49m\u001B[43mregion_scheme\u001B[49m\u001B[43m)\u001B[49m\u001B[38;5;132;43;01m}\u001B[39;49;00m\u001B[38;5;124;43m/diversity/\u001B[39;49m\u001B[38;5;124;43m\"\u001B[39;49m\n\u001B[0;32m     13\u001B[0m \u001B[43m)\u001B[49m\n",
      "File \u001B[1;32m~\\Documents\\Proyectos\\Flujos_Diversidad_Comercio_Internacional\\trade_network\\analyzers.py:51\u001B[0m, in \u001B[0;36mEconomicComplexityAnalyzer.run_analysis\u001B[1;34m(self, type_analysis, output_directory)\u001B[0m\n\u001B[0;32m     49\u001B[0m \u001B[38;5;28mprint\u001B[39m(\u001B[38;5;124mf\u001B[39m\u001B[38;5;124m\"\u001B[39m\u001B[38;5;124mAnalyzing \u001B[39m\u001B[38;5;132;01m{\u001B[39;00mscheme\u001B[38;5;241m.\u001B[39mname\u001B[38;5;132;01m}\u001B[39;00m\u001B[38;5;124m for \u001B[39m\u001B[38;5;132;01m{\u001B[39;00myear\u001B[38;5;132;01m}\u001B[39;00m\u001B[38;5;124m...\u001B[39m\u001B[38;5;124m\"\u001B[39m)\n\u001B[0;32m     50\u001B[0m analysis_df \u001B[38;5;241m=\u001B[39m \u001B[38;5;28mself\u001B[39m\u001B[38;5;241m.\u001B[39manalyze_year(year, scheme\u001B[38;5;241m.\u001B[39mname, type_analysis)\n\u001B[1;32m---> 51\u001B[0m \u001B[38;5;28;43mself\u001B[39;49m\u001B[38;5;241m.\u001B[39msave_csv(analysis_df, output_directory, scheme\u001B[38;5;241m.\u001B[39mname, year)\n",
      "File \u001B[1;32mC:\\Program Files\\JetBrains\\PyCharm 2023.2\\plugins\\python\\helpers\\pydev\\_pydevd_bundle\\pydevd_trace_dispatch.py:60\u001B[0m, in \u001B[0;36mtrace_dispatch\u001B[1;34m(py_db, frame, event, arg)\u001B[0m\n\u001B[0;32m     58\u001B[0m \u001B[38;5;28;01mif\u001B[39;00m _trace_dispatch \u001B[38;5;129;01mis\u001B[39;00m \u001B[38;5;28;01mNone\u001B[39;00m:\n\u001B[0;32m     59\u001B[0m     \u001B[38;5;28;01mreturn\u001B[39;00m \u001B[38;5;28;01mNone\u001B[39;00m\n\u001B[1;32m---> 60\u001B[0m \u001B[38;5;28;01mreturn\u001B[39;00m \u001B[43m_trace_dispatch\u001B[49m\u001B[43m(\u001B[49m\u001B[43mpy_db\u001B[49m\u001B[43m,\u001B[49m\u001B[43m \u001B[49m\u001B[43mframe\u001B[49m\u001B[43m,\u001B[49m\u001B[43m \u001B[49m\u001B[43mevent\u001B[49m\u001B[43m,\u001B[49m\u001B[43m \u001B[49m\u001B[43marg\u001B[49m\u001B[43m)\u001B[49m\n",
      "File \u001B[1;32m_pydevd_bundle\\pydevd_cython_win32_311_64.pyx:1329\u001B[0m, in \u001B[0;36m_pydevd_bundle.pydevd_cython_win32_311_64.trace_dispatch\u001B[1;34m()\u001B[0m\n",
      "File \u001B[1;32m_pydevd_bundle\\pydevd_cython_win32_311_64.pyx:1589\u001B[0m, in \u001B[0;36m_pydevd_bundle.pydevd_cython_win32_311_64.ThreadTracer.__call__\u001B[1;34m()\u001B[0m\n",
      "File \u001B[1;32m_pydevd_bundle\\pydevd_cython_win32_311_64.pyx:1095\u001B[0m, in \u001B[0;36m_pydevd_bundle.pydevd_cython_win32_311_64.PyDBFrame.trace_dispatch\u001B[1;34m()\u001B[0m\n",
      "File \u001B[1;32m_pydevd_bundle\\pydevd_cython_win32_311_64.pyx:1057\u001B[0m, in \u001B[0;36m_pydevd_bundle.pydevd_cython_win32_311_64.PyDBFrame.trace_dispatch\u001B[1;34m()\u001B[0m\n",
      "File \u001B[1;32m_pydevd_bundle\\pydevd_cython_win32_311_64.pyx:317\u001B[0m, in \u001B[0;36m_pydevd_bundle.pydevd_cython_win32_311_64.PyDBFrame.do_wait_suspend\u001B[1;34m()\u001B[0m\n",
      "File \u001B[1;32mC:\\Program Files\\JetBrains\\PyCharm 2023.2\\plugins\\python\\helpers\\pydev\\pydevd.py:1160\u001B[0m, in \u001B[0;36mPyDB.do_wait_suspend\u001B[1;34m(self, thread, frame, event, arg, send_suspend_message, is_unhandled_exception)\u001B[0m\n\u001B[0;32m   1157\u001B[0m         from_this_thread\u001B[38;5;241m.\u001B[39mappend(frame_id)\n\u001B[0;32m   1159\u001B[0m \u001B[38;5;28;01mwith\u001B[39;00m \u001B[38;5;28mself\u001B[39m\u001B[38;5;241m.\u001B[39m_threads_suspended_single_notification\u001B[38;5;241m.\u001B[39mnotify_thread_suspended(thread_id, stop_reason):\n\u001B[1;32m-> 1160\u001B[0m     \u001B[38;5;28;43mself\u001B[39;49m\u001B[38;5;241;43m.\u001B[39;49m\u001B[43m_do_wait_suspend\u001B[49m\u001B[43m(\u001B[49m\u001B[43mthread\u001B[49m\u001B[43m,\u001B[49m\u001B[43m \u001B[49m\u001B[43mframe\u001B[49m\u001B[43m,\u001B[49m\u001B[43m \u001B[49m\u001B[43mevent\u001B[49m\u001B[43m,\u001B[49m\u001B[43m \u001B[49m\u001B[43marg\u001B[49m\u001B[43m,\u001B[49m\u001B[43m \u001B[49m\u001B[43msuspend_type\u001B[49m\u001B[43m,\u001B[49m\u001B[43m \u001B[49m\u001B[43mfrom_this_thread\u001B[49m\u001B[43m)\u001B[49m\n",
      "File \u001B[1;32mC:\\Program Files\\JetBrains\\PyCharm 2023.2\\plugins\\python\\helpers\\pydev\\pydevd.py:1175\u001B[0m, in \u001B[0;36mPyDB._do_wait_suspend\u001B[1;34m(self, thread, frame, event, arg, suspend_type, from_this_thread)\u001B[0m\n\u001B[0;32m   1172\u001B[0m             \u001B[38;5;28mself\u001B[39m\u001B[38;5;241m.\u001B[39m_call_mpl_hook()\n\u001B[0;32m   1174\u001B[0m         \u001B[38;5;28mself\u001B[39m\u001B[38;5;241m.\u001B[39mprocess_internal_commands()\n\u001B[1;32m-> 1175\u001B[0m         time\u001B[38;5;241m.\u001B[39msleep(\u001B[38;5;241m0.01\u001B[39m)\n\u001B[0;32m   1177\u001B[0m \u001B[38;5;28mself\u001B[39m\u001B[38;5;241m.\u001B[39mcancel_async_evaluation(get_current_thread_id(thread), \u001B[38;5;28mstr\u001B[39m(\u001B[38;5;28mid\u001B[39m(frame)))\n\u001B[0;32m   1179\u001B[0m \u001B[38;5;66;03m# process any stepping instructions\u001B[39;00m\n",
      "\u001B[1;31mKeyboardInterrupt\u001B[0m: "
     ]
    }
   ],
   "source": [
    "from complex_trade_flow import EconomicComplexityAnalyzer\n",
    "from complex_trade_flow.constants import EconomicComplexity\n",
    "\n",
    "analyzer = EconomicComplexityAnalyzer(\n",
    "    start_year=1995,\n",
    "    end_year=1996,\n",
    "    classification_schemes=[region_scheme]\n",
    ")\n",
    "\n",
    "analyzer.run_analysis(\n",
    "    type_analysis=EconomicComplexity.ENTITY_PRODUCT_DIVERSIFICATION,\n",
    "    output_directory=f\"data/processed_data/BACI_HS92_V202401b/{str(region_scheme)}/diversity/\"\n",
    ")\n"
   ],
   "metadata": {
    "collapsed": false,
    "ExecuteTime": {
     "end_time": "2024-08-21T06:47:19.493925700Z",
     "start_time": "2024-08-21T06:44:59.946788300Z"
    }
   },
   "id": "5629a569f7e7a632"
  }
 ],
 "metadata": {
  "kernelspec": {
   "display_name": "Python 3",
   "language": "python",
   "name": "python3"
  },
  "language_info": {
   "codemirror_mode": {
    "name": "ipython",
    "version": 2
   },
   "file_extension": ".py",
   "mimetype": "text/x-python",
   "name": "python",
   "nbconvert_exporter": "python",
   "pygments_lexer": "ipython2",
   "version": "2.7.6"
  }
 },
 "nbformat": 4,
 "nbformat_minor": 5
}
