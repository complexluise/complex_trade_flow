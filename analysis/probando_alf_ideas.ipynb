{
 "cells": [
  {
   "metadata": {},
   "cell_type": "markdown",
   "source": "# ¿Por que los gradientes producen una fuerza termodamica?",
   "id": "c0d2675150b41ad2"
  },
  {
   "metadata": {
    "ExecuteTime": {
     "end_time": "2025-07-01T03:15:35.914448Z",
     "start_time": "2025-07-01T03:15:33.962303Z"
    }
   },
   "cell_type": "code",
   "source": [
    "import pandas as pd\n",
    "from complex_trade_flow import TradeNetwork, ClassificationScheme, DiversityCalculator"
   ],
   "id": "172f244d3be99ae",
   "outputs": [],
   "execution_count": 1
  },
  {
   "metadata": {
    "ExecuteTime": {
     "end_time": "2025-07-01T03:15:36.378364Z",
     "start_time": "2025-07-01T03:15:36.368492Z"
    }
   },
   "cell_type": "code",
   "source": [
    "columns = [\n",
    "    \"PIB\", \"POPULATION\", \"INEQUALYTIES\", \"ECOLOGY\",  \n",
    "    # WORDL BANK DATA NODE ATTRIBUTES\n",
    "    \"MONEY_GAIN_EXPORTATION\", \"MONEY_LOSS_IMPORTATION\", \"MASS_GAIN_IMPORTATION\", \"MASS_LOSS_EXPORTATION\", \"ENTROPY_LOSS_EXPORTATION\", \"ENTROPY_GAIN_IMPORTATION\", \"CENTER/PERIFERIA_LEVEL\" \n",
    "    # TRADE\n",
    "    \"GRADIENT_MONEY\", \"GRADIENT_MASS\", \"GRADIENT_ENTROPY\", \"GRADIENT_CENTER_PERIFERIA\", \"MONEY/MASS\",    \n",
    "    # COMPOSED\n",
    "]"
   ],
   "id": "6e9572202ca4d9b4",
   "outputs": [],
   "execution_count": 2
  },
  {
   "metadata": {
    "ExecuteTime": {
     "end_time": "2025-07-01T03:16:25.139857Z",
     "start_time": "2025-07-01T03:16:00.491085Z"
    }
   },
   "cell_type": "code",
   "source": [
    "from complex_trade_flow import EconomicDiversityAnalyzer\n",
    "from complex_trade_flow.constants import EconomicComplexity\n",
    "\n",
    "no_classification = ClassificationScheme(\n",
    "    name=\"by_country\"\n",
    ")\n",
    "analyzer = EconomicDiversityAnalyzer(\n",
    "    start_year=1995,\n",
    "    end_year=1996,\n",
    "    classification_schemes=[no_classification]\n",
    ")\n",
    "\n",
    "analyzer.run_analysis(\n",
    "    type_analysis=EconomicComplexity.ENTITY_TRADE_METRICS,\n",
    "    base_directory=\"../data/processed_data/BACI_HS92_V202401b/cleaned_trade_data/\",\n",
    "    output_directory=f\"processed_data/BACI_HS92_V202401b/{str(no_classification)}/\"\n",
    ")"
   ],
   "id": "a9fc744552505e33",
   "outputs": [
    {
     "name": "stdout",
     "output_type": "stream",
     "text": [
      "Analyzing by_country for 1995...\n"
     ]
    },
    {
     "name": "stderr",
     "output_type": "stream",
     "text": [
      "Analyzing year 1995:   4%|▍         | 8/213 [00:00<00:22,  8.92it/s]"
     ]
    },
    {
     "ename": "KeyError",
     "evalue": "'mass'",
     "output_type": "error",
     "traceback": [
      "\u001B[31m---------------------------------------------------------------------------\u001B[39m",
      "\u001B[31m_RemoteTraceback\u001B[39m                          Traceback (most recent call last)",
      "\u001B[31m_RemoteTraceback\u001B[39m: \n\"\"\"\nTraceback (most recent call last):\n  File \"C:\\Users\\luise\\.virtualenvs\\Flujos_Diversidad_Comercio_Internacional\\Lib\\site-packages\\pandas\\core\\indexes\\base.py\", line 3805, in get_loc\n    return self._engine.get_loc(casted_key)\n           ^^^^^^^^^^^^^^^^^^^^^^^^^^^^^^^^\n  File \"index.pyx\", line 167, in pandas._libs.index.IndexEngine.get_loc\n  File \"index.pyx\", line 196, in pandas._libs.index.IndexEngine.get_loc\n  File \"pandas\\\\_libs\\\\hashtable_class_helper.pxi\", line 7081, in pandas._libs.hashtable.PyObjectHashTable.get_item\n  File \"pandas\\\\_libs\\\\hashtable_class_helper.pxi\", line 7089, in pandas._libs.hashtable.PyObjectHashTable.get_item\nKeyError: 'mass'\n\nThe above exception was the direct cause of the following exception:\n\nTraceback (most recent call last):\n  File \"C:\\Users\\luise\\.virtualenvs\\Flujos_Diversidad_Comercio_Internacional\\Lib\\site-packages\\joblib\\externals\\loky\\process_executor.py\", line 490, in _process_worker\n    r = call_item()\n        ^^^^^^^^^^^\n  File \"C:\\Users\\luise\\.virtualenvs\\Flujos_Diversidad_Comercio_Internacional\\Lib\\site-packages\\joblib\\externals\\loky\\process_executor.py\", line 291, in __call__\n    return self.fn(*self.args, **self.kwargs)\n           ^^^^^^^^^^^^^^^^^^^^^^^^^^^^^^^^^^\n  File \"C:\\Users\\luise\\.virtualenvs\\Flujos_Diversidad_Comercio_Internacional\\Lib\\site-packages\\joblib\\parallel.py\", line 607, in __call__\n    return [func(*args, **kwargs) for func, args, kwargs in self.items]\n           ^^^^^^^^^^^^^^^^^^^^^^^^^^^^^^^^^^^^^^^^^^^^^^^^^^^^^^^^^^^^\n  File \"C:\\Users\\luise\\.virtualenvs\\Flujos_Diversidad_Comercio_Internacional\\Lib\\site-packages\\joblib\\parallel.py\", line 607, in <listcomp>\n    return [func(*args, **kwargs) for func, args, kwargs in self.items]\n            ^^^^^^^^^^^^^^^^^^^^^\n  File \"C:\\Users\\luise\\Documents\\Proyectos\\Comercio Internacional\\Flujos_Diversidad_Comercio_Internacional\\complex_trade_flow\\analyzers.py\", line 155, in compute_entity_trade_metrics\n    \"MASS_GAIN_IMPORTATION\": import_data[BACIColumnsTradeData.MASS.value].sum(),\n                             ~~~~~~~~~~~^^^^^^^^^^^^^^^^^^^^^^^^^^^^^^^^^\n  File \"C:\\Users\\luise\\.virtualenvs\\Flujos_Diversidad_Comercio_Internacional\\Lib\\site-packages\\pandas\\core\\frame.py\", line 4102, in __getitem__\n    indexer = self.columns.get_loc(key)\n              ^^^^^^^^^^^^^^^^^^^^^^^^^\n  File \"C:\\Users\\luise\\.virtualenvs\\Flujos_Diversidad_Comercio_Internacional\\Lib\\site-packages\\pandas\\core\\indexes\\base.py\", line 3812, in get_loc\n    raise KeyError(key) from err\nKeyError: 'mass'\n\"\"\"",
      "\nThe above exception was the direct cause of the following exception:\n",
      "\u001B[31mKeyError\u001B[39m                                  Traceback (most recent call last)",
      "\u001B[36mCell\u001B[39m\u001B[36m \u001B[39m\u001B[32mIn[4]\u001B[39m\u001B[32m, line 13\u001B[39m\n\u001B[32m      4\u001B[39m no_classification = ClassificationScheme(\n\u001B[32m      5\u001B[39m     name=\u001B[33m\"\u001B[39m\u001B[33mby_country\u001B[39m\u001B[33m\"\u001B[39m\n\u001B[32m      6\u001B[39m )\n\u001B[32m      7\u001B[39m analyzer = EconomicDiversityAnalyzer(\n\u001B[32m      8\u001B[39m     start_year=\u001B[32m1995\u001B[39m,\n\u001B[32m      9\u001B[39m     end_year=\u001B[32m1996\u001B[39m,\n\u001B[32m     10\u001B[39m     classification_schemes=[no_classification]\n\u001B[32m     11\u001B[39m )\n\u001B[32m---> \u001B[39m\u001B[32m13\u001B[39m \u001B[43manalyzer\u001B[49m\u001B[43m.\u001B[49m\u001B[43mrun_analysis\u001B[49m\u001B[43m(\u001B[49m\n\u001B[32m     14\u001B[39m \u001B[43m    \u001B[49m\u001B[43mtype_analysis\u001B[49m\u001B[43m=\u001B[49m\u001B[43mEconomicComplexity\u001B[49m\u001B[43m.\u001B[49m\u001B[43mENTITY_TRADE_METRICS\u001B[49m\u001B[43m,\u001B[49m\n\u001B[32m     15\u001B[39m \u001B[43m    \u001B[49m\u001B[43mbase_directory\u001B[49m\u001B[43m=\u001B[49m\u001B[33;43m\"\u001B[39;49m\u001B[33;43m../data/processed_data/BACI_HS92_V202401b/cleaned_trade_data/\u001B[39;49m\u001B[33;43m\"\u001B[39;49m\u001B[43m,\u001B[49m\n\u001B[32m     16\u001B[39m \u001B[43m    \u001B[49m\u001B[43moutput_directory\u001B[49m\u001B[43m=\u001B[49m\u001B[33;43mf\u001B[39;49m\u001B[33;43m\"\u001B[39;49m\u001B[33;43mprocessed_data/BACI_HS92_V202401b/\u001B[39;49m\u001B[38;5;132;43;01m{\u001B[39;49;00m\u001B[38;5;28;43mstr\u001B[39;49m\u001B[43m(\u001B[49m\u001B[43mno_classification\u001B[49m\u001B[43m)\u001B[49m\u001B[38;5;132;43;01m}\u001B[39;49;00m\u001B[33;43m/\u001B[39;49m\u001B[33;43m\"\u001B[39;49m\n\u001B[32m     17\u001B[39m \u001B[43m)\u001B[49m\n",
      "\u001B[36mFile \u001B[39m\u001B[32m~\\Documents\\Proyectos\\Comercio Internacional\\Flujos_Diversidad_Comercio_Internacional\\complex_trade_flow\\analyzers.py:71\u001B[39m, in \u001B[36mEconomicDiversityAnalyzer.run_analysis\u001B[39m\u001B[34m(self, type_analysis, output_directory, base_directory)\u001B[39m\n\u001B[32m     69\u001B[39m \u001B[38;5;28;01mfor\u001B[39;00m year \u001B[38;5;129;01min\u001B[39;00m \u001B[38;5;28mrange\u001B[39m(\u001B[38;5;28mself\u001B[39m.start_year, \u001B[38;5;28mself\u001B[39m.end_year + \u001B[32m1\u001B[39m):\n\u001B[32m     70\u001B[39m     \u001B[38;5;28mprint\u001B[39m(\u001B[33mf\u001B[39m\u001B[33m\"\u001B[39m\u001B[33mAnalyzing \u001B[39m\u001B[38;5;132;01m{\u001B[39;00mscheme.name\u001B[38;5;132;01m}\u001B[39;00m\u001B[33m for \u001B[39m\u001B[38;5;132;01m{\u001B[39;00myear\u001B[38;5;132;01m}\u001B[39;00m\u001B[33m...\u001B[39m\u001B[33m\"\u001B[39m)\n\u001B[32m---> \u001B[39m\u001B[32m71\u001B[39m     analysis_df = \u001B[38;5;28;43mself\u001B[39;49m\u001B[43m.\u001B[49m\u001B[43manalyze_year\u001B[49m\u001B[43m(\u001B[49m\n\u001B[32m     72\u001B[39m \u001B[43m        \u001B[49m\u001B[43myear\u001B[49m\u001B[43m,\u001B[49m\n\u001B[32m     73\u001B[39m \u001B[43m        \u001B[49m\u001B[43mscheme\u001B[49m\u001B[43m.\u001B[49m\u001B[43mname\u001B[49m\u001B[43m,\u001B[49m\n\u001B[32m     74\u001B[39m \u001B[43m        \u001B[49m\u001B[43mtype_analysis\u001B[49m\u001B[43m,\u001B[49m\n\u001B[32m     75\u001B[39m \u001B[43m        \u001B[49m\u001B[43mbase_directory\u001B[49m\u001B[43m=\u001B[49m\u001B[43mbase_directory\u001B[49m\u001B[43m,\u001B[49m\n\u001B[32m     76\u001B[39m \u001B[43m    \u001B[49m\u001B[43m)\u001B[49m\n\u001B[32m     77\u001B[39m     \u001B[38;5;28mself\u001B[39m.save_csv(analysis_df, output_directory, scheme.name, year, type_analysis.value)\n",
      "\u001B[36mFile \u001B[39m\u001B[32m~\\Documents\\Proyectos\\Comercio Internacional\\Flujos_Diversidad_Comercio_Internacional\\complex_trade_flow\\analyzers.py:51\u001B[39m, in \u001B[36mEconomicDiversityAnalyzer.analyze_year\u001B[39m\u001B[34m(self, year, scheme_name, type_analysis, base_directory)\u001B[39m\n\u001B[32m     43\u001B[39m network = TradeNetwork.from_year(\n\u001B[32m     44\u001B[39m     year,\n\u001B[32m     45\u001B[39m     classification_schemes=\u001B[38;5;28mself\u001B[39m.classification_schemes,\n\u001B[32m     46\u001B[39m     base_directory=base_directory\n\u001B[32m     47\u001B[39m )\n\u001B[32m     49\u001B[39m analysis: Callable = \u001B[38;5;28mself\u001B[39m.analysis_dict[type_analysis.value]\n\u001B[32m---> \u001B[39m\u001B[32m51\u001B[39m results = \u001B[43mParallel\u001B[49m\u001B[43m(\u001B[49m\u001B[43mn_jobs\u001B[49m\u001B[43m=\u001B[49m\u001B[43m-\u001B[49m\u001B[32;43m1\u001B[39;49m\u001B[43m)\u001B[49m\u001B[43m(\u001B[49m\n\u001B[32m     52\u001B[39m \u001B[43m    \u001B[49m\u001B[43mdelayed\u001B[49m\u001B[43m(\u001B[49m\u001B[43manalysis\u001B[49m\u001B[43m)\u001B[49m\u001B[43m(\u001B[49m\u001B[43mnetwork\u001B[49m\u001B[43m,\u001B[49m\u001B[43m \u001B[49m\u001B[43mentity\u001B[49m\u001B[43m,\u001B[49m\u001B[43m \u001B[49m\u001B[43mscheme_name\u001B[49m\u001B[43m)\u001B[49m\u001B[43m \u001B[49m\u001B[38;5;28;43;01mfor\u001B[39;49;00m\u001B[43m \u001B[49m\u001B[43mentity\u001B[49m\u001B[43m \u001B[49m\u001B[38;5;129;43;01min\u001B[39;49;00m\n\u001B[32m     53\u001B[39m \u001B[43m    \u001B[49m\u001B[43mtqdm\u001B[49m\u001B[43m(\u001B[49m\u001B[43mnetwork\u001B[49m\u001B[43m.\u001B[49m\u001B[43mentities\u001B[49m\u001B[43m[\u001B[49m\u001B[43mscheme_name\u001B[49m\u001B[43m]\u001B[49m\u001B[43m,\u001B[49m\u001B[43m \u001B[49m\u001B[43mdesc\u001B[49m\u001B[43m=\u001B[49m\u001B[33;43mf\u001B[39;49m\u001B[33;43m\"\u001B[39;49m\u001B[33;43mAnalyzing year \u001B[39;49m\u001B[38;5;132;43;01m{\u001B[39;49;00m\u001B[43myear\u001B[49m\u001B[38;5;132;43;01m}\u001B[39;49;00m\u001B[33;43m\"\u001B[39;49m\u001B[43m)\u001B[49m\n\u001B[32m     54\u001B[39m \u001B[43m\u001B[49m\u001B[43m)\u001B[49m\n\u001B[32m     56\u001B[39m \u001B[38;5;28;01mreturn\u001B[39;00m pd.DataFrame(results)\n",
      "\u001B[36mFile \u001B[39m\u001B[32m~\\.virtualenvs\\Flujos_Diversidad_Comercio_Internacional\\Lib\\site-packages\\joblib\\parallel.py:2072\u001B[39m, in \u001B[36mParallel.__call__\u001B[39m\u001B[34m(self, iterable)\u001B[39m\n\u001B[32m   2066\u001B[39m \u001B[38;5;66;03m# The first item from the output is blank, but it makes the interpreter\u001B[39;00m\n\u001B[32m   2067\u001B[39m \u001B[38;5;66;03m# progress until it enters the Try/Except block of the generator and\u001B[39;00m\n\u001B[32m   2068\u001B[39m \u001B[38;5;66;03m# reaches the first `yield` statement. This starts the asynchronous\u001B[39;00m\n\u001B[32m   2069\u001B[39m \u001B[38;5;66;03m# dispatch of the tasks to the workers.\u001B[39;00m\n\u001B[32m   2070\u001B[39m \u001B[38;5;28mnext\u001B[39m(output)\n\u001B[32m-> \u001B[39m\u001B[32m2072\u001B[39m \u001B[38;5;28;01mreturn\u001B[39;00m output \u001B[38;5;28;01mif\u001B[39;00m \u001B[38;5;28mself\u001B[39m.return_generator \u001B[38;5;28;01melse\u001B[39;00m \u001B[38;5;28;43mlist\u001B[39;49m\u001B[43m(\u001B[49m\u001B[43moutput\u001B[49m\u001B[43m)\u001B[49m\n",
      "\u001B[36mFile \u001B[39m\u001B[32m~\\.virtualenvs\\Flujos_Diversidad_Comercio_Internacional\\Lib\\site-packages\\joblib\\parallel.py:1682\u001B[39m, in \u001B[36mParallel._get_outputs\u001B[39m\u001B[34m(self, iterator, pre_dispatch)\u001B[39m\n\u001B[32m   1679\u001B[39m     \u001B[38;5;28;01myield\u001B[39;00m\n\u001B[32m   1681\u001B[39m     \u001B[38;5;28;01mwith\u001B[39;00m \u001B[38;5;28mself\u001B[39m._backend.retrieval_context():\n\u001B[32m-> \u001B[39m\u001B[32m1682\u001B[39m         \u001B[38;5;28;01myield from\u001B[39;00m \u001B[38;5;28mself\u001B[39m._retrieve()\n\u001B[32m   1684\u001B[39m \u001B[38;5;28;01mexcept\u001B[39;00m \u001B[38;5;167;01mGeneratorExit\u001B[39;00m:\n\u001B[32m   1685\u001B[39m     \u001B[38;5;66;03m# The generator has been garbage collected before being fully\u001B[39;00m\n\u001B[32m   1686\u001B[39m     \u001B[38;5;66;03m# consumed. This aborts the remaining tasks if possible and warn\u001B[39;00m\n\u001B[32m   1687\u001B[39m     \u001B[38;5;66;03m# the user if necessary.\u001B[39;00m\n\u001B[32m   1688\u001B[39m     \u001B[38;5;28mself\u001B[39m._exception = \u001B[38;5;28;01mTrue\u001B[39;00m\n",
      "\u001B[36mFile \u001B[39m\u001B[32m~\\.virtualenvs\\Flujos_Diversidad_Comercio_Internacional\\Lib\\site-packages\\joblib\\parallel.py:1784\u001B[39m, in \u001B[36mParallel._retrieve\u001B[39m\u001B[34m(self)\u001B[39m\n\u001B[32m   1778\u001B[39m \u001B[38;5;28;01mwhile\u001B[39;00m \u001B[38;5;28mself\u001B[39m._wait_retrieval():\n\u001B[32m   1779\u001B[39m     \u001B[38;5;66;03m# If the callback thread of a worker has signaled that its task\u001B[39;00m\n\u001B[32m   1780\u001B[39m     \u001B[38;5;66;03m# triggered an exception, or if the retrieval loop has raised an\u001B[39;00m\n\u001B[32m   1781\u001B[39m     \u001B[38;5;66;03m# exception (e.g. `GeneratorExit`), exit the loop and surface the\u001B[39;00m\n\u001B[32m   1782\u001B[39m     \u001B[38;5;66;03m# worker traceback.\u001B[39;00m\n\u001B[32m   1783\u001B[39m     \u001B[38;5;28;01mif\u001B[39;00m \u001B[38;5;28mself\u001B[39m._aborting:\n\u001B[32m-> \u001B[39m\u001B[32m1784\u001B[39m         \u001B[38;5;28;43mself\u001B[39;49m\u001B[43m.\u001B[49m\u001B[43m_raise_error_fast\u001B[49m\u001B[43m(\u001B[49m\u001B[43m)\u001B[49m\n\u001B[32m   1785\u001B[39m         \u001B[38;5;28;01mbreak\u001B[39;00m\n\u001B[32m   1787\u001B[39m     nb_jobs = \u001B[38;5;28mlen\u001B[39m(\u001B[38;5;28mself\u001B[39m._jobs)\n",
      "\u001B[36mFile \u001B[39m\u001B[32m~\\.virtualenvs\\Flujos_Diversidad_Comercio_Internacional\\Lib\\site-packages\\joblib\\parallel.py:1859\u001B[39m, in \u001B[36mParallel._raise_error_fast\u001B[39m\u001B[34m(self)\u001B[39m\n\u001B[32m   1855\u001B[39m \u001B[38;5;66;03m# If this error job exists, immediately raise the error by\u001B[39;00m\n\u001B[32m   1856\u001B[39m \u001B[38;5;66;03m# calling get_result. This job might not exists if abort has been\u001B[39;00m\n\u001B[32m   1857\u001B[39m \u001B[38;5;66;03m# called directly or if the generator is gc'ed.\u001B[39;00m\n\u001B[32m   1858\u001B[39m \u001B[38;5;28;01mif\u001B[39;00m error_job \u001B[38;5;129;01mis\u001B[39;00m \u001B[38;5;129;01mnot\u001B[39;00m \u001B[38;5;28;01mNone\u001B[39;00m:\n\u001B[32m-> \u001B[39m\u001B[32m1859\u001B[39m     \u001B[43merror_job\u001B[49m\u001B[43m.\u001B[49m\u001B[43mget_result\u001B[49m\u001B[43m(\u001B[49m\u001B[38;5;28;43mself\u001B[39;49m\u001B[43m.\u001B[49m\u001B[43mtimeout\u001B[49m\u001B[43m)\u001B[49m\n",
      "\u001B[36mFile \u001B[39m\u001B[32m~\\.virtualenvs\\Flujos_Diversidad_Comercio_Internacional\\Lib\\site-packages\\joblib\\parallel.py:758\u001B[39m, in \u001B[36mBatchCompletionCallBack.get_result\u001B[39m\u001B[34m(self, timeout)\u001B[39m\n\u001B[32m    752\u001B[39m backend = \u001B[38;5;28mself\u001B[39m.parallel._backend\n\u001B[32m    754\u001B[39m \u001B[38;5;28;01mif\u001B[39;00m backend.supports_retrieve_callback:\n\u001B[32m    755\u001B[39m     \u001B[38;5;66;03m# We assume that the result has already been retrieved by the\u001B[39;00m\n\u001B[32m    756\u001B[39m     \u001B[38;5;66;03m# callback thread, and is stored internally. It's just waiting to\u001B[39;00m\n\u001B[32m    757\u001B[39m     \u001B[38;5;66;03m# be returned.\u001B[39;00m\n\u001B[32m--> \u001B[39m\u001B[32m758\u001B[39m     \u001B[38;5;28;01mreturn\u001B[39;00m \u001B[38;5;28;43mself\u001B[39;49m\u001B[43m.\u001B[49m\u001B[43m_return_or_raise\u001B[49m\u001B[43m(\u001B[49m\u001B[43m)\u001B[49m\n\u001B[32m    760\u001B[39m \u001B[38;5;66;03m# For other backends, the main thread needs to run the retrieval step.\u001B[39;00m\n\u001B[32m    761\u001B[39m \u001B[38;5;28;01mtry\u001B[39;00m:\n",
      "\u001B[36mFile \u001B[39m\u001B[32m~\\.virtualenvs\\Flujos_Diversidad_Comercio_Internacional\\Lib\\site-packages\\joblib\\parallel.py:773\u001B[39m, in \u001B[36mBatchCompletionCallBack._return_or_raise\u001B[39m\u001B[34m(self)\u001B[39m\n\u001B[32m    771\u001B[39m \u001B[38;5;28;01mtry\u001B[39;00m:\n\u001B[32m    772\u001B[39m     \u001B[38;5;28;01mif\u001B[39;00m \u001B[38;5;28mself\u001B[39m.status == TASK_ERROR:\n\u001B[32m--> \u001B[39m\u001B[32m773\u001B[39m         \u001B[38;5;28;01mraise\u001B[39;00m \u001B[38;5;28mself\u001B[39m._result\n\u001B[32m    774\u001B[39m     \u001B[38;5;28;01mreturn\u001B[39;00m \u001B[38;5;28mself\u001B[39m._result\n\u001B[32m    775\u001B[39m \u001B[38;5;28;01mfinally\u001B[39;00m:\n",
      "\u001B[31mKeyError\u001B[39m: 'mass'"
     ]
    }
   ],
   "execution_count": 4
  },
  {
   "metadata": {},
   "cell_type": "markdown",
   "source": "## Cargar datos de world bank data",
   "id": "c9b8ce92d0cd5c11"
  }
 ],
 "metadata": {},
 "nbformat": 4,
 "nbformat_minor": 5
}
