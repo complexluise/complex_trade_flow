{
 "cells": [
  {
   "cell_type": "markdown",
   "source": [
    "# Ejemplo de uso de la Libreria"
   ],
   "metadata": {
    "collapsed": false
   },
   "id": "dc4ea48e3328d647"
  },
  {
   "cell_type": "markdown",
   "source": [
    "# Limpia los datos"
   ],
   "metadata": {
    "collapsed": false
   },
   "id": "89414fe483405180"
  },
  {
   "cell_type": "markdown",
   "source": [
    "## Consideraciones antes de usar el código\n",
    "Para limpiar los datos, primero asegúrate de tener los siguientes archivos descargados:\n",
    "\n",
    "1. BACI CEPII: Datos de comercio internacional\n",
    "   - Ubicación: `data/raw_data/BACI_HS92_V202401b/`\n",
    "   - Archivos: `BACI_HS92_Y{year}_V202401b.csv` para cada año\n",
    "   - Archivo de códigos de país: `country_codes_V202401b.csv`\n",
    "\n",
    "2. World Bank Data:\n",
    "   - Ubicación: `data/raw_data/world_bank_data/`\n",
    "   - Archivo de países: `countries.csv`\n",
    "   - Archivo de deflactor del PIB: `NY.GDP.DEFL.ZS.AD_1995-2023.csv`\n",
    "\n",
    "Asegúrate de que estos archivos estén en las ubicaciones correctas antes de ejecutar el código de limpieza."
   ],
   "metadata": {
    "collapsed": false
   },
   "id": "bb4f795ddf58b7aa"
  },
  {
   "cell_type": "markdown",
   "source": [
    "## Cómo se limpian los datos\n",
    "El proceso de limpieza de datos realiza las siguientes operaciones:\n",
    "\n",
    "1. Carga los datos brutos de comercio, códigos de país, datos de región y deflactor del PIB.\n",
    "2. Enriquece los datos de país con información de región.\n",
    "3. Limpia y transforma los datos de transacciones comerciales:\n",
    "   - Reemplaza valores faltantes en la columna de cantidad.\n",
    "   - Mapea los códigos de país a códigos ISO de 3 letras.\n",
    "   - Renombra las columnas para mayor claridad.\n",
    "4. Convierte los valores monetarios a dólares constantes utilizando el deflactor del PIB.\n",
    "5. Guarda los datos limpios en archivos CSV separados por año."
   ],
   "metadata": {
    "collapsed": false
   },
   "id": "e99a851240b0bfd6"
  },
  {
   "cell_type": "raw",
   "source": [
    "from trade_network.clean_trade_data import DataCleaner\n",
    "DataCleaner.clean_trade_data()"
   ],
   "metadata": {
    "collapsed": false
   },
   "id": "4324d7d96a251ef4"
  },
  {
   "cell_type": "markdown",
   "source": [
    "# Ejemplo Calcula la diversidad de alguna región\n"
   ],
   "metadata": {
    "collapsed": false
   },
   "id": "3036b176c551dbd5"
  },
  {
   "cell_type": "markdown",
   "source": [
    "## Cálculo de la diversidad\n",
    "\n",
    "El cálculo de la diversidad en el comercio internacional nos permite entender qué tan variada es la canasta de productos que exporta o importa una región o país. Utilizamos el índice de diversidad basado en la entropía de Shannon, que se calcula de la siguiente manera:\n",
    "\n",
    "1. Calculamos las probabilidades marginales para cada producto:\n",
    "   $P(i) =$ (Valor exportado del producto i) / (Valor total de exportaciones)\n",
    "\n",
    "2. Calculamos la entropía de Shannon:\n",
    "   $H = -∑(P(i) * log2(P(i)))$\n",
    "\n",
    "3. Convertimos la entropía a un índice de diversidad:\n",
    "   $Diversidad = 2^H$\n",
    "\n",
    "Este índice nos da una medida de la diversidad efectiva de productos. Un valor más alto indica una mayor diversidad en la canasta de productos comerciados.\n"
   ],
   "metadata": {
    "collapsed": false
   },
   "id": "e8dde84d41b22a8e"
  },
  {
   "cell_type": "markdown",
   "source": [
    "## Clasifica a los paises de acuerdo a un esquema\n",
    "\n",
    "El esquema de clasificación nos permite agrupar países según diferentes criterios, como región geográfica, nivel de ingresos, etc. Esto facilita el análisis de patrones comerciales a nivel de grupos de países.\n",
    "\n",
    "Para crear un esquema sin clasificación (es decir, donde cada país se clasifica como sí mismo), puedes usar el siguiente código:\n",
    "\n",
    "```python\n",
    "no_classification = ClassificationScheme(\n",
    "    name=\"by_country\"\n",
    ")\n",
    "```\n",
    "Este esquema simplemente mapeará cada país a sí mismo, lo que es útil cuando quieres analizar países individualmente.\n",
    "\n",
    "\n",
    "Para clasificaciones con el archivo csv, la clase se inicializa con un nombre y la ruta al archivo que contiene la información de clasificación. Se deben r como __key_column__ aquella donde esté el código iso de 3 dígitos y de __value_column__ aquella donde esté la clasificación."
   ],
   "metadata": {
    "collapsed": false
   },
   "id": "9acbe322f4d25f7b"
  },
  {
   "cell_type": "code",
   "source": [
    "from complex_trade_flow import ClassificationScheme\n",
    "\n",
    "\n",
    "region_scheme = ClassificationScheme(\n",
    "    name=\"by_region\",\n",
    "    file_path=\"../data/raw_data/world_bank_data/countries.csv\",\n",
    "    key_column=\"id\",\n",
    "    value_column=\"region.value\"\n",
    ")    "
   ],
   "metadata": {
    "collapsed": false,
    "ExecuteTime": {
     "end_time": "2025-06-16T04:22:46.889449Z",
     "start_time": "2025-06-16T04:22:44.323666Z"
    }
   },
   "id": "1470b305af0fbcc6",
   "outputs": [],
   "execution_count": 2
  },
  {
   "cell_type": "markdown",
   "source": [
    "## Crear la red de comercio para un año específico\n",
    "Nota: Para hacer uso de TradeNetwork, asegúrate de que los archivos de datos limpios estén en la ruta correcta (generalmente en 'data/processed_data/BACI_HS92_V202401b/cleaned_trade_data/')\n",
    "y que el archivo de configuración 'data_paths.json' esté correctamente configurado con las rutas correspondientes y datos."
   ],
   "metadata": {
    "collapsed": false
   },
   "id": "eafe86b7a8af03fe"
  },
  {
   "cell_type": "code",
   "source": [
    "from complex_trade_flow import TradeNetwork\n",
    "\n",
    "trade_network = TradeNetwork.from_year(\n",
    "    year=2020,\n",
    "    classification_schemes=[region_scheme]\n",
    ")\n"
   ],
   "metadata": {
    "collapsed": false,
    "ExecuteTime": {
     "end_time": "2025-06-16T04:23:07.399905Z",
     "start_time": "2025-06-16T04:22:46.894624Z"
    }
   },
   "id": "a2deb24a9907b84a",
   "outputs": [],
   "execution_count": 3
  },
  {
   "cell_type": "markdown",
   "source": [
    "Veamos qué regiones están disponibles en nuestro esquema de clasificación:"
   ],
   "metadata": {
    "collapsed": false
   },
   "id": "a6c0bb0abd783b19"
  },
  {
   "cell_type": "code",
   "source": [
    "trade_network.entities[str(region_scheme)]"
   ],
   "metadata": {
    "collapsed": false,
    "ExecuteTime": {
     "end_time": "2025-06-16T04:23:07.466665Z",
     "start_time": "2025-06-16T04:23:07.443562Z"
    }
   },
   "id": "a3caa873de8b2d25",
   "outputs": [
    {
     "data": {
      "text/plain": [
       "{'East Asia & Pacific',\n",
       " 'Europe & Central Asia',\n",
       " 'Latin America & Caribbean ',\n",
       " 'Middle East & North Africa',\n",
       " 'North America',\n",
       " 'South Asia',\n",
       " 'Sub-Saharan Africa ',\n",
       " 'Unknown'}"
      ]
     },
     "execution_count": 4,
     "metadata": {},
     "output_type": "execute_result"
    }
   ],
   "execution_count": 4
  },
  {
   "cell_type": "markdown",
   "source": [
    "## Cálculo de la diversidad de exportación para una región\n",
    "Ahora, calculemos la diversidad de exportación para la región 'South Asia':"
   ],
   "metadata": {
    "collapsed": false
   },
   "id": "3ab018c96a9f0058"
  },
  {
   "cell_type": "code",
   "source": [
    "from complex_trade_flow import DiversityCalculator\n",
    "\n",
    "data = trade_network.filter_data_by_entities(\n",
    "            scheme_name=str(region_scheme),\n",
    "            exporters=['South Asia']\n",
    "        )\n",
    "\n",
    "export_diversity = DiversityCalculator.calculate_diversity_index(\n",
    "                data=data\n",
    "            )\n",
    "print(f\"Export product diversity for {'South Asia'}: {export_diversity:.2f}\")"
   ],
   "metadata": {
    "collapsed": false,
    "ExecuteTime": {
     "end_time": "2025-06-16T04:23:08.262490Z",
     "start_time": "2025-06-16T04:23:07.485668Z"
    }
   },
   "id": "8a29ba311d46b95e",
   "outputs": [
    {
     "name": "stdout",
     "output_type": "stream",
     "text": [
      "Export product diversity for South Asia: 458.12\n"
     ]
    }
   ],
   "execution_count": 5
  },
  {
   "cell_type": "markdown",
   "source": [
    "# Analisis de Flujos de diversidad\n",
    "\n",
    "Para facilitar el analisis de los datasets se cuentan con analisis ya programados, la función run_analysis coordina todo el proceso de análisis de diversidad. Para cada año y esquema de clasificación proporcionado, ejecuta un cálculo específico de diversificación económica mediante la función compute_entity_product_diversification, que mide cuán diversificados están los productos que un país exporta e importa. Esta última función filtra los datos comerciales por país y esquema, y calcula un índice de diversidad para las exportaciones e importaciones,"
   ],
   "metadata": {
    "collapsed": false
   },
   "id": "19b58dbd8e4bd5d3"
  },
  {
   "metadata": {
    "ExecuteTime": {
     "end_time": "2025-06-16T04:23:34.453276Z",
     "start_time": "2025-06-16T04:23:08.283661Z"
    }
   },
   "cell_type": "code",
   "source": [
    "from complex_trade_flow import EconomicDiversityAnalyzer\n",
    "from complex_trade_flow.constants import EconomicComplexity\n",
    "no_classification = ClassificationScheme(\n",
    "    name=\"by_country\"\n",
    ")\n",
    "analyzer = EconomicDiversityAnalyzer(\n",
    "    start_year=1995,\n",
    "    end_year=1996,\n",
    "    classification_schemes=[no_classification]\n",
    ")\n",
    "\n",
    "analyzer.run_analysis(\n",
    "    type_analysis=EconomicComplexity.ENTITY_TRADE_METRICS,\n",
    "    output_directory=f\"data/processed_data/BACI_HS92_V202401b/{str(region_scheme)}/diversity/\"\n",
    ")\n"
   ],
   "id": "dfcde756db2e2f9c",
   "outputs": [
    {
     "name": "stdout",
     "output_type": "stream",
     "text": [
      "Analyzing by_country for 1995...\n"
     ]
    },
    {
     "name": "stderr",
     "output_type": "stream",
     "text": [
      "Analyzing year 1995:   4%|▍         | 8/213 [00:01<00:44,  4.65it/s]"
     ]
    },
    {
     "ename": "KeyError",
     "evalue": "'mass'",
     "output_type": "error",
     "traceback": [
      "\u001B[31m---------------------------------------------------------------------------\u001B[39m",
      "\u001B[31m_RemoteTraceback\u001B[39m                          Traceback (most recent call last)",
      "\u001B[31m_RemoteTraceback\u001B[39m: \n\"\"\"\nTraceback (most recent call last):\n  File \"C:\\Users\\luise\\.virtualenvs\\Flujos_Diversidad_Comercio_Internacional\\Lib\\site-packages\\pandas\\core\\indexes\\base.py\", line 3805, in get_loc\n    return self._engine.get_loc(casted_key)\n           ^^^^^^^^^^^^^^^^^^^^^^^^^^^^^^^^\n  File \"index.pyx\", line 167, in pandas._libs.index.IndexEngine.get_loc\n  File \"index.pyx\", line 196, in pandas._libs.index.IndexEngine.get_loc\n  File \"pandas\\\\_libs\\\\hashtable_class_helper.pxi\", line 7081, in pandas._libs.hashtable.PyObjectHashTable.get_item\n  File \"pandas\\\\_libs\\\\hashtable_class_helper.pxi\", line 7089, in pandas._libs.hashtable.PyObjectHashTable.get_item\nKeyError: 'mass'\n\nThe above exception was the direct cause of the following exception:\n\nTraceback (most recent call last):\n  File \"C:\\Users\\luise\\.virtualenvs\\Flujos_Diversidad_Comercio_Internacional\\Lib\\site-packages\\joblib\\externals\\loky\\process_executor.py\", line 490, in _process_worker\n    r = call_item()\n        ^^^^^^^^^^^\n  File \"C:\\Users\\luise\\.virtualenvs\\Flujos_Diversidad_Comercio_Internacional\\Lib\\site-packages\\joblib\\externals\\loky\\process_executor.py\", line 291, in __call__\n    return self.fn(*self.args, **self.kwargs)\n           ^^^^^^^^^^^^^^^^^^^^^^^^^^^^^^^^^^\n  File \"C:\\Users\\luise\\.virtualenvs\\Flujos_Diversidad_Comercio_Internacional\\Lib\\site-packages\\joblib\\parallel.py\", line 607, in __call__\n    return [func(*args, **kwargs) for func, args, kwargs in self.items]\n           ^^^^^^^^^^^^^^^^^^^^^^^^^^^^^^^^^^^^^^^^^^^^^^^^^^^^^^^^^^^^\n  File \"C:\\Users\\luise\\.virtualenvs\\Flujos_Diversidad_Comercio_Internacional\\Lib\\site-packages\\joblib\\parallel.py\", line 607, in <listcomp>\n    return [func(*args, **kwargs) for func, args, kwargs in self.items]\n            ^^^^^^^^^^^^^^^^^^^^^\n  File \"C:\\Users\\luise\\Documents\\Proyectos\\Comercio Internacional\\Flujos_Diversidad_Comercio_Internacional\\complex_trade_flow\\analyzers.py\", line 128, in compute_entity_trade_metrics\n    mass_gain_importation = import_data[BACIColumnsTradeData.MASS.value].sum()\n                            ~~~~~~~~~~~^^^^^^^^^^^^^^^^^^^^^^^^^^^^^^^^^\n  File \"C:\\Users\\luise\\.virtualenvs\\Flujos_Diversidad_Comercio_Internacional\\Lib\\site-packages\\pandas\\core\\frame.py\", line 4102, in __getitem__\n    indexer = self.columns.get_loc(key)\n              ^^^^^^^^^^^^^^^^^^^^^^^^^\n  File \"C:\\Users\\luise\\.virtualenvs\\Flujos_Diversidad_Comercio_Internacional\\Lib\\site-packages\\pandas\\core\\indexes\\base.py\", line 3812, in get_loc\n    raise KeyError(key) from err\nKeyError: 'mass'\n\"\"\"",
      "\nThe above exception was the direct cause of the following exception:\n",
      "\u001B[31mKeyError\u001B[39m                                  Traceback (most recent call last)",
      "\u001B[36mCell\u001B[39m\u001B[36m \u001B[39m\u001B[32mIn[6]\u001B[39m\u001B[32m, line 12\u001B[39m\n\u001B[32m      3\u001B[39m no_classification = ClassificationScheme(\n\u001B[32m      4\u001B[39m     name=\u001B[33m\"\u001B[39m\u001B[33mby_country\u001B[39m\u001B[33m\"\u001B[39m\n\u001B[32m      5\u001B[39m )\n\u001B[32m      6\u001B[39m analyzer = EconomicDiversityAnalyzer(\n\u001B[32m      7\u001B[39m     start_year=\u001B[32m1995\u001B[39m,\n\u001B[32m      8\u001B[39m     end_year=\u001B[32m1996\u001B[39m,\n\u001B[32m      9\u001B[39m     classification_schemes=[no_classification]\n\u001B[32m     10\u001B[39m )\n\u001B[32m---> \u001B[39m\u001B[32m12\u001B[39m \u001B[43manalyzer\u001B[49m\u001B[43m.\u001B[49m\u001B[43mrun_analysis\u001B[49m\u001B[43m(\u001B[49m\n\u001B[32m     13\u001B[39m \u001B[43m    \u001B[49m\u001B[43mtype_analysis\u001B[49m\u001B[43m=\u001B[49m\u001B[43mEconomicComplexity\u001B[49m\u001B[43m.\u001B[49m\u001B[43mENTITY_TRADE_METRICS\u001B[49m\u001B[43m,\u001B[49m\n\u001B[32m     14\u001B[39m \u001B[43m    \u001B[49m\u001B[43moutput_directory\u001B[49m\u001B[43m=\u001B[49m\u001B[33;43mf\u001B[39;49m\u001B[33;43m\"\u001B[39;49m\u001B[33;43mdata/processed_data/BACI_HS92_V202401b/\u001B[39;49m\u001B[38;5;132;43;01m{\u001B[39;49;00m\u001B[38;5;28;43mstr\u001B[39;49m\u001B[43m(\u001B[49m\u001B[43mregion_scheme\u001B[49m\u001B[43m)\u001B[49m\u001B[38;5;132;43;01m}\u001B[39;49;00m\u001B[33;43m/diversity/\u001B[39;49m\u001B[33;43m\"\u001B[39;49m\n\u001B[32m     15\u001B[39m \u001B[43m)\u001B[49m\n",
      "\u001B[36mFile \u001B[39m\u001B[32m~\\Documents\\Proyectos\\Comercio Internacional\\Flujos_Diversidad_Comercio_Internacional\\complex_trade_flow\\analyzers.py:52\u001B[39m, in \u001B[36mEconomicDiversityAnalyzer.run_analysis\u001B[39m\u001B[34m(self, type_analysis, output_directory)\u001B[39m\n\u001B[32m     50\u001B[39m \u001B[38;5;28;01mfor\u001B[39;00m year \u001B[38;5;129;01min\u001B[39;00m \u001B[38;5;28mrange\u001B[39m(\u001B[38;5;28mself\u001B[39m.start_year, \u001B[38;5;28mself\u001B[39m.end_year + \u001B[32m1\u001B[39m):\n\u001B[32m     51\u001B[39m     \u001B[38;5;28mprint\u001B[39m(\u001B[33mf\u001B[39m\u001B[33m\"\u001B[39m\u001B[33mAnalyzing \u001B[39m\u001B[38;5;132;01m{\u001B[39;00mscheme.name\u001B[38;5;132;01m}\u001B[39;00m\u001B[33m for \u001B[39m\u001B[38;5;132;01m{\u001B[39;00myear\u001B[38;5;132;01m}\u001B[39;00m\u001B[33m...\u001B[39m\u001B[33m\"\u001B[39m)\n\u001B[32m---> \u001B[39m\u001B[32m52\u001B[39m     analysis_df = \u001B[38;5;28;43mself\u001B[39;49m\u001B[43m.\u001B[49m\u001B[43manalyze_year\u001B[49m\u001B[43m(\u001B[49m\u001B[43myear\u001B[49m\u001B[43m,\u001B[49m\u001B[43m \u001B[49m\u001B[43mscheme\u001B[49m\u001B[43m.\u001B[49m\u001B[43mname\u001B[49m\u001B[43m,\u001B[49m\u001B[43m \u001B[49m\u001B[43mtype_analysis\u001B[49m\u001B[43m)\u001B[49m\n\u001B[32m     53\u001B[39m     \u001B[38;5;28mself\u001B[39m.save_csv(analysis_df, output_directory, scheme.name, year, type_analysis.value)\n",
      "\u001B[36mFile \u001B[39m\u001B[32m~\\Documents\\Proyectos\\Comercio Internacional\\Flujos_Diversidad_Comercio_Internacional\\complex_trade_flow\\analyzers.py:37\u001B[39m, in \u001B[36mEconomicDiversityAnalyzer.analyze_year\u001B[39m\u001B[34m(self, year, scheme_name, type_analysis)\u001B[39m\n\u001B[32m     33\u001B[39m network = TradeNetwork.from_year(year, classification_schemes=\u001B[38;5;28mself\u001B[39m.classification_schemes)\n\u001B[32m     35\u001B[39m analysis: Callable = \u001B[38;5;28mself\u001B[39m.analysis_dict[type_analysis.value]\n\u001B[32m---> \u001B[39m\u001B[32m37\u001B[39m results = \u001B[43mParallel\u001B[49m\u001B[43m(\u001B[49m\u001B[43mn_jobs\u001B[49m\u001B[43m=\u001B[49m\u001B[43m-\u001B[49m\u001B[32;43m1\u001B[39;49m\u001B[43m)\u001B[49m\u001B[43m(\u001B[49m\n\u001B[32m     38\u001B[39m \u001B[43m    \u001B[49m\u001B[43mdelayed\u001B[49m\u001B[43m(\u001B[49m\u001B[43manalysis\u001B[49m\u001B[43m)\u001B[49m\u001B[43m(\u001B[49m\u001B[43mnetwork\u001B[49m\u001B[43m,\u001B[49m\u001B[43m \u001B[49m\u001B[43mentity\u001B[49m\u001B[43m,\u001B[49m\u001B[43m \u001B[49m\u001B[43mscheme_name\u001B[49m\u001B[43m)\u001B[49m\u001B[43m \u001B[49m\u001B[38;5;28;43;01mfor\u001B[39;49;00m\u001B[43m \u001B[49m\u001B[43mentity\u001B[49m\u001B[43m \u001B[49m\u001B[38;5;129;43;01min\u001B[39;49;00m\n\u001B[32m     39\u001B[39m \u001B[43m    \u001B[49m\u001B[43mtqdm\u001B[49m\u001B[43m(\u001B[49m\u001B[43mnetwork\u001B[49m\u001B[43m.\u001B[49m\u001B[43mentities\u001B[49m\u001B[43m[\u001B[49m\u001B[43mscheme_name\u001B[49m\u001B[43m]\u001B[49m\u001B[43m,\u001B[49m\u001B[43m \u001B[49m\u001B[43mdesc\u001B[49m\u001B[43m=\u001B[49m\u001B[33;43mf\u001B[39;49m\u001B[33;43m\"\u001B[39;49m\u001B[33;43mAnalyzing year \u001B[39;49m\u001B[38;5;132;43;01m{\u001B[39;49;00m\u001B[43myear\u001B[49m\u001B[38;5;132;43;01m}\u001B[39;49;00m\u001B[33;43m\"\u001B[39;49m\u001B[43m)\u001B[49m\n\u001B[32m     40\u001B[39m \u001B[43m\u001B[49m\u001B[43m)\u001B[49m\n\u001B[32m     42\u001B[39m \u001B[38;5;28;01mreturn\u001B[39;00m pd.DataFrame(results)\n",
      "\u001B[36mFile \u001B[39m\u001B[32m~\\.virtualenvs\\Flujos_Diversidad_Comercio_Internacional\\Lib\\site-packages\\joblib\\parallel.py:2072\u001B[39m, in \u001B[36mParallel.__call__\u001B[39m\u001B[34m(self, iterable)\u001B[39m\n\u001B[32m   2066\u001B[39m \u001B[38;5;66;03m# The first item from the output is blank, but it makes the interpreter\u001B[39;00m\n\u001B[32m   2067\u001B[39m \u001B[38;5;66;03m# progress until it enters the Try/Except block of the generator and\u001B[39;00m\n\u001B[32m   2068\u001B[39m \u001B[38;5;66;03m# reaches the first `yield` statement. This starts the asynchronous\u001B[39;00m\n\u001B[32m   2069\u001B[39m \u001B[38;5;66;03m# dispatch of the tasks to the workers.\u001B[39;00m\n\u001B[32m   2070\u001B[39m \u001B[38;5;28mnext\u001B[39m(output)\n\u001B[32m-> \u001B[39m\u001B[32m2072\u001B[39m \u001B[38;5;28;01mreturn\u001B[39;00m output \u001B[38;5;28;01mif\u001B[39;00m \u001B[38;5;28mself\u001B[39m.return_generator \u001B[38;5;28;01melse\u001B[39;00m \u001B[38;5;28;43mlist\u001B[39;49m\u001B[43m(\u001B[49m\u001B[43moutput\u001B[49m\u001B[43m)\u001B[49m\n",
      "\u001B[36mFile \u001B[39m\u001B[32m~\\.virtualenvs\\Flujos_Diversidad_Comercio_Internacional\\Lib\\site-packages\\joblib\\parallel.py:1682\u001B[39m, in \u001B[36mParallel._get_outputs\u001B[39m\u001B[34m(self, iterator, pre_dispatch)\u001B[39m\n\u001B[32m   1679\u001B[39m     \u001B[38;5;28;01myield\u001B[39;00m\n\u001B[32m   1681\u001B[39m     \u001B[38;5;28;01mwith\u001B[39;00m \u001B[38;5;28mself\u001B[39m._backend.retrieval_context():\n\u001B[32m-> \u001B[39m\u001B[32m1682\u001B[39m         \u001B[38;5;28;01myield from\u001B[39;00m \u001B[38;5;28mself\u001B[39m._retrieve()\n\u001B[32m   1684\u001B[39m \u001B[38;5;28;01mexcept\u001B[39;00m \u001B[38;5;167;01mGeneratorExit\u001B[39;00m:\n\u001B[32m   1685\u001B[39m     \u001B[38;5;66;03m# The generator has been garbage collected before being fully\u001B[39;00m\n\u001B[32m   1686\u001B[39m     \u001B[38;5;66;03m# consumed. This aborts the remaining tasks if possible and warn\u001B[39;00m\n\u001B[32m   1687\u001B[39m     \u001B[38;5;66;03m# the user if necessary.\u001B[39;00m\n\u001B[32m   1688\u001B[39m     \u001B[38;5;28mself\u001B[39m._exception = \u001B[38;5;28;01mTrue\u001B[39;00m\n",
      "\u001B[36mFile \u001B[39m\u001B[32m~\\.virtualenvs\\Flujos_Diversidad_Comercio_Internacional\\Lib\\site-packages\\joblib\\parallel.py:1784\u001B[39m, in \u001B[36mParallel._retrieve\u001B[39m\u001B[34m(self)\u001B[39m\n\u001B[32m   1778\u001B[39m \u001B[38;5;28;01mwhile\u001B[39;00m \u001B[38;5;28mself\u001B[39m._wait_retrieval():\n\u001B[32m   1779\u001B[39m     \u001B[38;5;66;03m# If the callback thread of a worker has signaled that its task\u001B[39;00m\n\u001B[32m   1780\u001B[39m     \u001B[38;5;66;03m# triggered an exception, or if the retrieval loop has raised an\u001B[39;00m\n\u001B[32m   1781\u001B[39m     \u001B[38;5;66;03m# exception (e.g. `GeneratorExit`), exit the loop and surface the\u001B[39;00m\n\u001B[32m   1782\u001B[39m     \u001B[38;5;66;03m# worker traceback.\u001B[39;00m\n\u001B[32m   1783\u001B[39m     \u001B[38;5;28;01mif\u001B[39;00m \u001B[38;5;28mself\u001B[39m._aborting:\n\u001B[32m-> \u001B[39m\u001B[32m1784\u001B[39m         \u001B[38;5;28;43mself\u001B[39;49m\u001B[43m.\u001B[49m\u001B[43m_raise_error_fast\u001B[49m\u001B[43m(\u001B[49m\u001B[43m)\u001B[49m\n\u001B[32m   1785\u001B[39m         \u001B[38;5;28;01mbreak\u001B[39;00m\n\u001B[32m   1787\u001B[39m     nb_jobs = \u001B[38;5;28mlen\u001B[39m(\u001B[38;5;28mself\u001B[39m._jobs)\n",
      "\u001B[36mFile \u001B[39m\u001B[32m~\\.virtualenvs\\Flujos_Diversidad_Comercio_Internacional\\Lib\\site-packages\\joblib\\parallel.py:1859\u001B[39m, in \u001B[36mParallel._raise_error_fast\u001B[39m\u001B[34m(self)\u001B[39m\n\u001B[32m   1855\u001B[39m \u001B[38;5;66;03m# If this error job exists, immediately raise the error by\u001B[39;00m\n\u001B[32m   1856\u001B[39m \u001B[38;5;66;03m# calling get_result. This job might not exists if abort has been\u001B[39;00m\n\u001B[32m   1857\u001B[39m \u001B[38;5;66;03m# called directly or if the generator is gc'ed.\u001B[39;00m\n\u001B[32m   1858\u001B[39m \u001B[38;5;28;01mif\u001B[39;00m error_job \u001B[38;5;129;01mis\u001B[39;00m \u001B[38;5;129;01mnot\u001B[39;00m \u001B[38;5;28;01mNone\u001B[39;00m:\n\u001B[32m-> \u001B[39m\u001B[32m1859\u001B[39m     \u001B[43merror_job\u001B[49m\u001B[43m.\u001B[49m\u001B[43mget_result\u001B[49m\u001B[43m(\u001B[49m\u001B[38;5;28;43mself\u001B[39;49m\u001B[43m.\u001B[49m\u001B[43mtimeout\u001B[49m\u001B[43m)\u001B[49m\n",
      "\u001B[36mFile \u001B[39m\u001B[32m~\\.virtualenvs\\Flujos_Diversidad_Comercio_Internacional\\Lib\\site-packages\\joblib\\parallel.py:758\u001B[39m, in \u001B[36mBatchCompletionCallBack.get_result\u001B[39m\u001B[34m(self, timeout)\u001B[39m\n\u001B[32m    752\u001B[39m backend = \u001B[38;5;28mself\u001B[39m.parallel._backend\n\u001B[32m    754\u001B[39m \u001B[38;5;28;01mif\u001B[39;00m backend.supports_retrieve_callback:\n\u001B[32m    755\u001B[39m     \u001B[38;5;66;03m# We assume that the result has already been retrieved by the\u001B[39;00m\n\u001B[32m    756\u001B[39m     \u001B[38;5;66;03m# callback thread, and is stored internally. It's just waiting to\u001B[39;00m\n\u001B[32m    757\u001B[39m     \u001B[38;5;66;03m# be returned.\u001B[39;00m\n\u001B[32m--> \u001B[39m\u001B[32m758\u001B[39m     \u001B[38;5;28;01mreturn\u001B[39;00m \u001B[38;5;28;43mself\u001B[39;49m\u001B[43m.\u001B[49m\u001B[43m_return_or_raise\u001B[49m\u001B[43m(\u001B[49m\u001B[43m)\u001B[49m\n\u001B[32m    760\u001B[39m \u001B[38;5;66;03m# For other backends, the main thread needs to run the retrieval step.\u001B[39;00m\n\u001B[32m    761\u001B[39m \u001B[38;5;28;01mtry\u001B[39;00m:\n",
      "\u001B[36mFile \u001B[39m\u001B[32m~\\.virtualenvs\\Flujos_Diversidad_Comercio_Internacional\\Lib\\site-packages\\joblib\\parallel.py:773\u001B[39m, in \u001B[36mBatchCompletionCallBack._return_or_raise\u001B[39m\u001B[34m(self)\u001B[39m\n\u001B[32m    771\u001B[39m \u001B[38;5;28;01mtry\u001B[39;00m:\n\u001B[32m    772\u001B[39m     \u001B[38;5;28;01mif\u001B[39;00m \u001B[38;5;28mself\u001B[39m.status == TASK_ERROR:\n\u001B[32m--> \u001B[39m\u001B[32m773\u001B[39m         \u001B[38;5;28;01mraise\u001B[39;00m \u001B[38;5;28mself\u001B[39m._result\n\u001B[32m    774\u001B[39m     \u001B[38;5;28;01mreturn\u001B[39;00m \u001B[38;5;28mself\u001B[39m._result\n\u001B[32m    775\u001B[39m \u001B[38;5;28;01mfinally\u001B[39;00m:\n",
      "\u001B[31mKeyError\u001B[39m: 'mass'"
     ]
    }
   ],
   "execution_count": 6
  }
 ],
 "metadata": {
  "kernelspec": {
   "display_name": "Python 3",
   "language": "python",
   "name": "python3"
  },
  "language_info": {
   "codemirror_mode": {
    "name": "ipython",
    "version": 2
   },
   "file_extension": ".py",
   "mimetype": "text/x-python",
   "name": "python",
   "nbconvert_exporter": "python",
   "pygments_lexer": "ipython2",
   "version": "2.7.6"
  }
 },
 "nbformat": 4,
 "nbformat_minor": 5
}
